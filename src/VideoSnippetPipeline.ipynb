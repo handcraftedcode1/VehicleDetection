{
 "cells": [
  {
   "cell_type": "code",
   "execution_count": 21,
   "metadata": {
    "collapsed": false
   },
   "outputs": [
    {
     "name": "stdout",
     "output_type": "stream",
     "text": [
      "Extracted 131 frames\n"
     ]
    }
   ],
   "source": [
    "import cv2\n",
    "\n",
    "FOLDER = 'videos/tmp'\n",
    "\n",
    "vidcap = cv2.VideoCapture('videos/short_movie.mp4')\n",
    "success, image = vidcap.read()\n",
    "count = 0\n",
    "success = True\n",
    "while success:\n",
    "  success,image = vidcap.read()\n",
    "  cv2.imwrite(FOLDER + \"/frame%d.jpg\" % count, image)     # save frame as JPEG file\n",
    "  count += 1\n",
    "\n",
    "print(\"Extracted {} frames\".format(count))"
   ]
  },
  {
   "cell_type": "code",
   "execution_count": 23,
   "metadata": {
    "collapsed": false
   },
   "outputs": [
    {
     "name": "stdout",
     "output_type": "stream",
     "text": [
      "100 frames selected\n"
     ]
    }
   ],
   "source": [
    "selected_frames = []\n",
    "for x in range(0, 100):\n",
    "    selected_frames.append(FOLDER + \"/frame%d.jpg\" % x)\n",
    "    \n",
    "print(\"{} frames selected\".format(len(selected_frames)))"
   ]
  },
  {
   "cell_type": "code",
   "execution_count": 24,
   "metadata": {
    "collapsed": false
   },
   "outputs": [
    {
     "name": "stderr",
     "output_type": "stream",
     "text": [
      "\n"
     ]
    }
   ],
   "source": [
    "# Import everything needed to edit/save/watch video clips\n",
    "from moviepy.editor import VideoFileClip, ImageSequenceClip\n",
    "from IPython.display import HTML\n",
    "\n",
    "def build_movie(files, movie_fn):\n",
    "    clip = ImageSequenceClip(files, fps=30)\n",
    "    clip.write_videofile(movie_fn)"
   ]
  },
  {
   "cell_type": "code",
   "execution_count": 25,
   "metadata": {
    "collapsed": false
   },
   "outputs": [
    {
     "name": "stdout",
     "output_type": "stream",
     "text": [
      "[MoviePy] >>>> Building video videos/tmp/short-movie.mp4\n",
      "[MoviePy] Writing video videos/tmp/short-movie.mp4\n"
     ]
    },
    {
     "name": "stderr",
     "output_type": "stream",
     "text": [
      "\n",
      "\n",
      "  0%|          | 0/100 [00:00<?, ?it/s]\u001b[A\u001b[A\n",
      "\n",
      "  4%|▍         | 4/100 [00:00<00:02, 34.82it/s]\u001b[A\u001b[A\n",
      "\n",
      "  7%|▋         | 7/100 [00:00<00:02, 33.09it/s]\u001b[A\u001b[A\n",
      "\n",
      " 11%|█         | 11/100 [00:00<00:02, 32.23it/s]\u001b[A\u001b[A\n",
      "\n",
      " 14%|█▍        | 14/100 [00:00<00:02, 31.35it/s]\u001b[A\u001b[A\n",
      "\n",
      " 18%|█▊        | 18/100 [00:00<00:02, 31.15it/s]\u001b[A\u001b[A\n",
      "\n",
      " 21%|██        | 21/100 [00:00<00:02, 30.48it/s]\u001b[A\u001b[A\n",
      "\n",
      " 24%|██▍       | 24/100 [00:00<00:02, 30.32it/s]\u001b[A\u001b[A\n",
      "\n",
      " 27%|██▋       | 27/100 [00:00<00:02, 29.75it/s]\u001b[A\u001b[A\n",
      "\n",
      " 31%|███       | 31/100 [00:01<00:02, 29.83it/s]\u001b[A\u001b[A\n",
      "\n",
      " 35%|███▌      | 35/100 [00:01<00:02, 32.01it/s]\u001b[A\u001b[A\n",
      "\n",
      " 39%|███▉      | 39/100 [00:01<00:01, 31.45it/s]\u001b[A\u001b[A\n",
      "\n",
      " 43%|████▎     | 43/100 [00:01<00:01, 30.91it/s]\u001b[A\u001b[A\n",
      "\n",
      " 47%|████▋     | 47/100 [00:01<00:01, 30.57it/s]\u001b[A\u001b[A\n",
      "\n",
      " 51%|█████     | 51/100 [00:01<00:01, 30.57it/s]\u001b[A\u001b[A\n",
      "\n",
      " 55%|█████▌    | 55/100 [00:01<00:01, 29.97it/s]\u001b[A\u001b[A\n",
      "\n",
      " 58%|█████▊    | 58/100 [00:01<00:01, 29.55it/s]\u001b[A\u001b[A\n",
      "\n",
      " 61%|██████    | 61/100 [00:02<00:01, 29.66it/s]\u001b[A\u001b[A\n",
      "\n",
      " 64%|██████▍   | 64/100 [00:02<00:01, 28.86it/s]\u001b[A\u001b[A\n",
      "\n",
      " 67%|██████▋   | 67/100 [00:02<00:01, 28.50it/s]\u001b[A\u001b[A\n",
      "\n",
      " 70%|███████   | 70/100 [00:02<00:01, 27.38it/s]\u001b[A\u001b[A\n",
      "\n",
      " 73%|███████▎  | 73/100 [00:02<00:01, 26.58it/s]\u001b[A\u001b[A\n",
      "\n",
      " 76%|███████▌  | 76/100 [00:02<00:00, 26.28it/s]\u001b[A\u001b[A\n",
      "\n",
      " 79%|███████▉  | 79/100 [00:02<00:00, 26.15it/s]\u001b[A\u001b[A\n",
      "\n",
      " 82%|████████▏ | 82/100 [00:02<00:00, 25.80it/s]\u001b[A\u001b[A\n",
      "\n",
      " 85%|████████▌ | 85/100 [00:02<00:00, 26.17it/s]\u001b[A\u001b[A\n",
      "\n",
      " 88%|████████▊ | 88/100 [00:03<00:00, 26.29it/s]\u001b[A\u001b[A\n",
      "\n",
      " 91%|█████████ | 91/100 [00:03<00:00, 26.55it/s]\u001b[A\u001b[A\n",
      "\n",
      " 94%|█████████▍| 94/100 [00:03<00:00, 26.29it/s]\u001b[A\u001b[A\n",
      "\n",
      " 97%|█████████▋| 97/100 [00:03<00:00, 25.95it/s]\u001b[A\u001b[A\n",
      "\n",
      "100%|██████████| 100/100 [00:03<00:00, 25.69it/s]\u001b[A\u001b[A\n",
      "\n",
      "\u001b[A\u001b[A"
     ]
    },
    {
     "name": "stdout",
     "output_type": "stream",
     "text": [
      "[MoviePy] Done.\n",
      "[MoviePy] >>>> Video ready: videos/tmp/short-movie.mp4 \n",
      "\n",
      "Short Movie Created\n"
     ]
    }
   ],
   "source": [
    "movie_fn = FOLDER + '/short-movie.mp4'\n",
    "build_movie(selected_frames, movie_fn)\n",
    "\n",
    "print(\"Short Movie Created\")"
   ]
  },
  {
   "cell_type": "code",
   "execution_count": 26,
   "metadata": {
    "collapsed": false
   },
   "outputs": [
    {
     "data": {
      "text/html": [
       "\n",
       "<video width=\"960\" height=\"540\" controls>\n",
       "  <source src=\"videos/tmp/short-movie.mp4\">\n",
       "</video>\n"
      ],
      "text/plain": [
       "<IPython.core.display.HTML object>"
      ]
     },
     "execution_count": 26,
     "metadata": {},
     "output_type": "execute_result"
    }
   ],
   "source": [
    "HTML(\"\"\"\n",
    "<video width=\"960\" height=\"540\" controls>\n",
    "  <source src=\"{0}\">\n",
    "</video>\n",
    "\"\"\".format(movie_fn))"
   ]
  },
  {
   "cell_type": "code",
   "execution_count": null,
   "metadata": {
    "collapsed": true
   },
   "outputs": [],
   "source": []
  }
 ],
 "metadata": {
  "kernelspec": {
   "display_name": "Python [conda env:carnd-term1]",
   "language": "python",
   "name": "conda-env-carnd-term1-py"
  },
  "language_info": {
   "codemirror_mode": {
    "name": "ipython",
    "version": 3
   },
   "file_extension": ".py",
   "mimetype": "text/x-python",
   "name": "python",
   "nbconvert_exporter": "python",
   "pygments_lexer": "ipython3",
   "version": "3.5.2"
  }
 },
 "nbformat": 4,
 "nbformat_minor": 1
}
